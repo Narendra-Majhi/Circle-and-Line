{
 "cells": [
  {
   "cell_type": "code",
   "execution_count": 1,
   "metadata": {},
   "outputs": [
    {
     "ename": "SyntaxError",
     "evalue": "invalid syntax (<ipython-input-1-786bc0e9ed2e>, line 12)",
     "output_type": "error",
     "traceback": [
      "\u001b[1;36m  File \u001b[1;32m\"<ipython-input-1-786bc0e9ed2e>\"\u001b[1;36m, line \u001b[1;32m12\u001b[0m\n\u001b[1;33m    c = ((Circle_Centre[0])**2)+((c1-Circle_Centre[1])**2)-(rad**2)\u001b[0m\n\u001b[1;37m    ^\u001b[0m\n\u001b[1;31mSyntaxError\u001b[0m\u001b[1;31m:\u001b[0m invalid syntax\n"
     ]
    }
   ],
   "source": [
    "Line_Point_1 = list(map(float,input(\"Point 1 :\").split(\" \")))\n",
    "Line_Point_2 = list(map(float,input(\"Point 2 :\").split(\" \")))\n",
    "Circle_Centre = list(map(float,input(\"Circle Centre :\").split(\" \")))\n",
    "rad = float(input(\"Radius :\"))\n",
    "\n",
    "print(Line_Point_1[0],Line_Point_1[1],Line_Point_2[0],Line_Point_2[1],Circle_Centre[0],Circle_Centre[1],rad)\n",
    "m = (Line_Point_2[1]-Line_Point_1[1])/(Line_Point_2[0]-Line_Point_1[0])\n",
    "c1 = Line_Point_2[1]-(m*Line_Point_2[0])\n",
    "\n",
    "a = (m**2)+1\n",
    "b = (2.0*m*(c1-Circle_Centre[1])-(2.0*Circle_Centre[0])\n",
    "c = ((Circle_Centre[0])**2)+((c1-Circle_Centre[1])**2)-(rad**2)\n",
    "\n",
    "val = (b**2)-(4.0*a*c)\n",
    "\n",
    "if(val == 0):\n",
    "    print(\"Tangent\")\n",
    "elif(val > 0):\n",
    "    print(\"Cuts the Cirle\")\n",
    "else:\n",
    "    print(\"Doesn't Touch the Circle\")"
   ]
  },
  {
   "cell_type": "code",
   "execution_count": null,
   "metadata": {},
   "outputs": [],
   "source": []
  }
 ],
 "metadata": {
  "kernelspec": {
   "display_name": "Python 3",
   "language": "python",
   "name": "python3"
  },
  "language_info": {
   "codemirror_mode": {
    "name": "ipython",
    "version": 3
   },
   "file_extension": ".py",
   "mimetype": "text/x-python",
   "name": "python",
   "nbconvert_exporter": "python",
   "pygments_lexer": "ipython3",
   "version": "3.6.5"
  }
 },
 "nbformat": 4,
 "nbformat_minor": 2
}
