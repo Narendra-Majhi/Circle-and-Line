{
 "cells": [
  {
   "cell_type": "code",
   "execution_count": 11,
   "metadata": {},
   "outputs": [
    {
     "name": "stdout",
     "output_type": "stream",
     "text": [
      "Point 1 :5 0\n",
      "Point 2 :3 0\n",
      "Circle Centre :2 2\n",
      "Radius :2\n",
      "5.0 0.0 3.0 0.0 2.0 2.0 2.0\n",
      "Tangent\n",
      "X : 2.0  Y : 0.0\n"
     ]
    }
   ],
   "source": [
    "Line_Point_1 = list(map(float,input(\"Point 1 :\").split(\" \")))\n",
    "Line_Point_2 = list(map(float,input(\"Point 2 :\").split(\" \")))\n",
    "Circle_Centre = list(map(float,input(\"Circle Centre :\").split(\" \")))\n",
    "rad = float(input(\"Radius :\"))\n",
    "\n",
    "print(Line_Point_1[0],Line_Point_1[1],Line_Point_2[0],Line_Point_2[1],Circle_Centre[0],Circle_Centre[1],rad)\n",
    "m = (Line_Point_2[1]-Line_Point_1[1])/(Line_Point_2[0]-Line_Point_1[0])\n",
    "c1 = Line_Point_2[1]-(m*Line_Point_2[0])\n",
    "\n",
    "a = (m**2)+1\n",
    "b = (2.0*m*(c1-Circle_Centre[1])-(2.0*Circle_Centre[0]))\n",
    "c = ((Circle_Centre[0])**2)+((c1-Circle_Centre[1])**2)-(rad**2)\n",
    "\n",
    "val = (b**2)-(4.0*a*c)\n",
    "\n",
    "if(val == 0):\n",
    "    print(\"Tangent\")\n",
    "    t = 1\n",
    "elif(val > 0):\n",
    "    print(\"Cuts the Cirle\")\n",
    "    t = 2\n",
    "else:\n",
    "    print(\"Doesn't Touch the Circle\")\n",
    "    \n",
    "if(t==1):\n",
    "    x = (-b)/(2*a)\n",
    "    y = m*x + c1\n",
    "    print(\"X :\",x,\" Y :\",y)\n",
    "elif(t==2):\n",
    "    x1 = (-b-(val**0.5))/(2*a)\n",
    "    y1 = m*x1 + c1\n",
    "    x2 = (-b+(val**0.5))/(2*a)\n",
    "    y2 = m*x2 + c1\n",
    "    print(\"X1 :\",x1,\" Y1 :\",y1,\" X2 :\",x2,\" Y2 :\",y2)\n",
    "\n",
    "#Not for vertical lines\n"
   ]
  },
  {
   "cell_type": "code",
   "execution_count": null,
   "metadata": {},
   "outputs": [],
   "source": []
  }
 ],
 "metadata": {
  "kernelspec": {
   "display_name": "Python 3",
   "language": "python",
   "name": "python3"
  },
  "language_info": {
   "codemirror_mode": {
    "name": "ipython",
    "version": 3
   },
   "file_extension": ".py",
   "mimetype": "text/x-python",
   "name": "python",
   "nbconvert_exporter": "python",
   "pygments_lexer": "ipython3",
   "version": "3.6.5"
  }
 },
 "nbformat": 4,
 "nbformat_minor": 2
}
