{
 "cells": [
  {
   "cell_type": "code",
   "execution_count": null,
   "metadata": {},
   "outputs": [
    {
     "name": "stdout",
     "output_type": "stream",
     "text": [
      "Enter number of test cases :1\n",
      "478365 399949 452913940005054\n",
      "441070693 549248962 819056499 97103176 325598871 413785715 0\n"
     ]
    }
   ],
   "source": [
    "import math\n",
    "\n",
    "Test = int(input(\"Enter number of test cases :\"))\n",
    "\n",
    "for k in range(Test):\n",
    "    val_1 = list(map(int,input().split(\" \")))\n",
    "    val_2 = list(map(int,input().split(\" \")))\n",
    "    \n",
    "    X = [0]*val_1[0]\n",
    "    S = [0]*val_1[0]\n",
    "\n",
    "    X[0] = val_2[0]\n",
    "    X[1] = val_2[1]\n",
    "    S[0] = X[0]+val_2[6]\n",
    "    S[1] = X[1]+val_2[6]\n",
    "    \n",
    "    for j in range(val_1[0]-2):\n",
    "        X[j+2] = (val_2[2]*X[j+1] + val_2[3]*X[j] + val_2[4]) % val_2[5]\n",
    "        S[j+2] = X[j+2] + val_2[6]\n",
    "    \n",
    "    maxi = -(math.inf)\n",
    "    for i in range(len(S)):\n",
    "        for j in range(len(S)-1-i):\n",
    "            if(S[i] < S[i+j+1]):\n",
    "                t = S[i+j+1]\n",
    "                S[i+j+1] = S[i]\n",
    "                S[i] = t\n",
    "                \n",
    "    e = [None]*val_1[0]\n",
    "    o = [None]*val_1[0]\n",
    "    c1 = 0\n",
    "    c2 = 0\n",
    "    for i in S:\n",
    "        if(i%2 == 1 and i not in o):\n",
    "            o[c1] = i\n",
    "            c1 += 1\n",
    "        if(i%2 == 0 and i not in e):\n",
    "            e[c2] = i\n",
    "            c2 += 1\n",
    "    \n",
    "    while(None in o):\n",
    "        o.remove(None)\n",
    "    while(None in e):\n",
    "        e.remove(None)\n",
    "        \n",
    "    odd = o[:val_1[1]]\n",
    "    c = 0\n",
    "    for i in odd:\n",
    "        c +=i\n",
    "    \n",
    "    for j in e:\n",
    "        if(c+j <= val_1[2] and c+j >= c):\n",
    "            result = c+j\n",
    "            break\n",
    "        elif(c+j <= val_1[2] and c+j <= c):\n",
    "            result = c\n",
    "            break\n",
    "        else:\n",
    "            result = \"IMPOSSIBLE\"\n",
    "        \n",
    "        \n",
    "    #print(\"Odd :\",o)\n",
    "    #print(\"Even :\",e)\n",
    "    print(\"Case #%d:\"%(k+1),result)\n"
   ]
  },
  {
   "cell_type": "code",
   "execution_count": null,
   "metadata": {},
   "outputs": [],
   "source": []
  }
 ],
 "metadata": {
  "kernelspec": {
   "display_name": "Python 3",
   "language": "python",
   "name": "python3"
  },
  "language_info": {
   "codemirror_mode": {
    "name": "ipython",
    "version": 3
   },
   "file_extension": ".py",
   "mimetype": "text/x-python",
   "name": "python",
   "nbconvert_exporter": "python",
   "pygments_lexer": "ipython3",
   "version": "3.6.5"
  }
 },
 "nbformat": 4,
 "nbformat_minor": 2
}
